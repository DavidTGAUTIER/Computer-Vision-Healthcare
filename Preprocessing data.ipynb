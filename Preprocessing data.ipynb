{
 "cells": [
  {
   "cell_type": "code",
   "execution_count": 1,
   "id": "ec57e982",
   "metadata": {},
   "outputs": [],
   "source": [
    "import torch"
   ]
  },
  {
   "cell_type": "code",
   "execution_count": 2,
   "id": "60e661a8",
   "metadata": {},
   "outputs": [],
   "source": [
    "# Fonction pour extraire les données\n",
    "import os\n",
    "import gzip\n",
    "\n",
    "def extract_gz_files(directory):\n",
    "    \"\"\"\n",
    "    Extracts the contents of all .gz files in a directory and saves them in the same directory.\n",
    "    \n",
    "    Parameters:\n",
    "    directory (str): Path to the directory containing the .gz files.\n",
    "    \"\"\"\n",
    "    for filename in os.listdir(directory):\n",
    "        if filename.endswith(\"nii.gz\"):\n",
    "            file_path = os.path.join(directory, filename)\n",
    "            with gzip.open(file_path, \"rb\") as gz_file:\n",
    "                uncompressed_data = gz_file.read()\n",
    "            new_filename = filename[:-3]  # Remove the .gz extension\n",
    "            new_file_path = os.path.join(directory, new_filename)\n",
    "            with open(new_file_path, \"wb\") as new_file:\n",
    "                new_file.write(uncompressed_data)\n",
    "            os.remove(file_path)  # Delete the original .gz file\n"
   ]
  },
  {
   "cell_type": "code",
   "execution_count": 3,
   "id": "6c961f1f",
   "metadata": {},
   "outputs": [],
   "source": [
    "path1 = '/media/david/Elements/dev/DL/Monai-AI-Healthcare-Imaging/data/Task03_Liver/Task03_Liver/imagesTr'\n",
    "path2 = '/media/david/Elements/dev/DL/Monai-AI-Healthcare-Imaging/data/Task03_Liver/Task03_Liver/imagesTs' "
   ]
  },
  {
   "cell_type": "code",
   "execution_count": 4,
   "id": "024eb47d",
   "metadata": {},
   "outputs": [
    {
     "data": {
      "text/plain": [
       "['.ipynb_checkpoints',\n",
       " 'Computer-Vision-Healthcare',\n",
       " 'data',\n",
       " 'Preprocessing data.ipynb',\n",
       " 'sources.txt']"
      ]
     },
     "execution_count": 4,
     "metadata": {},
     "output_type": "execute_result"
    }
   ],
   "source": [
    "os.listdir()"
   ]
  },
  {
   "cell_type": "code",
   "execution_count": 5,
   "id": "fcdd4397",
   "metadata": {},
   "outputs": [],
   "source": [
    "paths = os.getcwd()\n",
    "path_images_tr = os.path.join(paths, '', 'data/Task03_Liver/Task03_Liver/imagesTr')\n",
    "path_dicom_file = os.path.join(paths, '', 'data/Task03_Liver/Task03_Liver/dicom_file')\n",
    "path_dicom_groups = os.path.join(paths, '', 'data/Task03_Liver/Task03_Liver/dicom_groups')"
   ]
  },
  {
   "cell_type": "code",
   "execution_count": 6,
   "id": "ae9463f9",
   "metadata": {},
   "outputs": [
    {
     "data": {
      "text/plain": [
       "'/media/david/Elements/dev/DL/Monai-AI-Healthcare-Imaging/data/Task03_Liver/Task03_Liver/dicom_groups'"
      ]
     },
     "execution_count": 6,
     "metadata": {},
     "output_type": "execute_result"
    }
   ],
   "source": [
    "# exemple\n",
    "path_dicom_groups"
   ]
  },
  {
   "cell_type": "markdown",
   "id": "255b8220",
   "metadata": {},
   "source": [
    "## Labels"
   ]
  },
  {
   "cell_type": "code",
   "execution_count": 8,
   "id": "49f34730",
   "metadata": {},
   "outputs": [
    {
     "data": {
      "text/plain": [
       "'/media/david/Elements/dev/DL/Monai-AI-Healthcare-Imaging/data/Task03_Liver/Task03_Liver/dicom_file/labels'"
      ]
     },
     "execution_count": 8,
     "metadata": {},
     "output_type": "execute_result"
    }
   ],
   "source": [
    "input_path_labels = os.path.join(path_dicom_file, '', 'labels')\n",
    "input_path_labels"
   ]
  },
  {
   "cell_type": "code",
   "execution_count": 9,
   "id": "699c5f47",
   "metadata": {},
   "outputs": [
    {
     "data": {
      "text/plain": [
       "'/media/david/Elements/dev/DL/Monai-AI-Healthcare-Imaging/data/Task03_Liver/Task03_Liver/dicom_groups/labels'"
      ]
     },
     "execution_count": 9,
     "metadata": {},
     "output_type": "execute_result"
    }
   ],
   "source": [
    "output_path_labels = os.path.join(path_dicom_groups, '', 'labels')\n",
    "output_path_labels"
   ]
  },
  {
   "cell_type": "markdown",
   "id": "86821568",
   "metadata": {},
   "source": [
    "### Creation d'un groupe de 64 slices"
   ]
  },
  {
   "cell_type": "markdown",
   "id": "f8e59bef",
   "metadata": {},
   "source": [
    "On va convertir les 64 slices en 1 seul fichier nfti"
   ]
  },
  {
   "cell_type": "code",
   "execution_count": 11,
   "id": "917229ae",
   "metadata": {},
   "outputs": [],
   "source": [
    "from glob import glob\n",
    "import shutil"
   ]
  },
  {
   "cell_type": "code",
   "execution_count": 12,
   "id": "79243f3d",
   "metadata": {},
   "outputs": [
    {
     "name": "stdout",
     "output_type": "stream",
     "text": [
      "/media/david/Elements/dev/DL/Monai-AI-Healthcare-Imaging/data/Task03_Liver/Task03_Liver/dicom_file/labels/liver_00\n",
      "/media/david/Elements/dev/DL/Monai-AI-Healthcare-Imaging/data/Task03_Liver/Task03_Liver/dicom_file/labels/liver_01\n",
      "/media/david/Elements/dev/DL/Monai-AI-Healthcare-Imaging/data/Task03_Liver/Task03_Liver/dicom_file/labels/liver_02\n",
      "/media/david/Elements/dev/DL/Monai-AI-Healthcare-Imaging/data/Task03_Liver/Task03_Liver/dicom_file/labels/liver_03\n",
      "/media/david/Elements/dev/DL/Monai-AI-Healthcare-Imaging/data/Task03_Liver/Task03_Liver/dicom_file/labels/liver_04\n",
      "/media/david/Elements/dev/DL/Monai-AI-Healthcare-Imaging/data/Task03_Liver/Task03_Liver/dicom_file/labels/liver_05\n",
      "/media/david/Elements/dev/DL/Monai-AI-Healthcare-Imaging/data/Task03_Liver/Task03_Liver/dicom_file/labels/liver_06\n",
      "/media/david/Elements/dev/DL/Monai-AI-Healthcare-Imaging/data/Task03_Liver/Task03_Liver/dicom_file/labels/liver_07\n",
      "/media/david/Elements/dev/DL/Monai-AI-Healthcare-Imaging/data/Task03_Liver/Task03_Liver/dicom_file/labels/liver_08\n",
      "/media/david/Elements/dev/DL/Monai-AI-Healthcare-Imaging/data/Task03_Liver/Task03_Liver/dicom_file/labels/liver_09\n",
      "/media/david/Elements/dev/DL/Monai-AI-Healthcare-Imaging/data/Task03_Liver/Task03_Liver/dicom_file/labels/liver_10\n"
     ]
    }
   ],
   "source": [
    "for patient in glob(input_path_labels + '/*'):\n",
    "    print(patient)"
   ]
  },
  {
   "cell_type": "code",
   "execution_count": 35,
   "id": "31eeec22",
   "metadata": {},
   "outputs": [
    {
     "data": {
      "text/plain": [
       "'/media/david/Elements/dev/DL/Monai-AI-Healthcare-Imaging/data/Task03_Liver/Task03_Liver/dicom_file/labels/liver_00'"
      ]
     },
     "execution_count": 35,
     "metadata": {},
     "output_type": "execute_result"
    }
   ],
   "source": [
    "patient_list = glob(input_path + '/*')\n",
    "patient_list[0]"
   ]
  },
  {
   "cell_type": "markdown",
   "id": "54ed65de",
   "metadata": {},
   "source": [
    "* `os.path.basename()` : split au dernier '/' et récupère le nom du dossier ou du fichier \n",
    "* `os.path.normpath()` : supprime les sequences '.' et '..' inutiles dans le chemin  "
   ]
  },
  {
   "cell_type": "code",
   "execution_count": 49,
   "id": "55757f4b",
   "metadata": {},
   "outputs": [],
   "source": [
    "groups_number = 64\n",
    "\n",
    "for patient in glob(input_path_labels + '/*'):\n",
    "    # patient_name = liver_00 (pour le 1er patient, ect...)\n",
    "    patient_name = os.path.basename(os.path.normpath(patient))\n",
    "    # glob(patient + '/*') crée une liste de tous les fichiers du liver_00 (pour le 1er patient)\n",
    "    # on va récupérer le nombre total de fichier qu'on divise par le nombre de patients par groupe \n",
    "    # souhaités (dans notre cas, on veut 64 patients par groupe)\n",
    "    # Attention : on ne prend que les groupes entier de 64 personnes\n",
    "    # ex: si un groupe de patients est de 80 personnes, nous n'aurons qu'un seul groupe de 64 personnes\n",
    "    # cad qu'on ne garde pas la partie non entière de 24 personnes (pour un problème d'accuracy en DL)\n",
    "    number_folders = int(len(glob(patient + '/*')) / groups_number)\n",
    "    \n",
    "    # on va créer autant de sous-groupe de 64 patients que le nombre de number_folders\n",
    "    for i in range(number_folders):\n",
    "        # os.path.join(path, patient_name+'_' + str(i)) ==> path/patient_name_i\n",
    "        output_path_name = os.path.join(output_path, patient_name + f'_{str(i)}')\n",
    "        # os.mkdir(folder_name) : va créer pour chaque folder_name un folder à son nom\n",
    "        os.mkdir(output_path_name)\n",
    "        \n",
    "        all_patient = glob(patient + '/*')\n",
    "        # pour chaque patient dans la liste all_patient\n",
    "        for i, file in enumerate(all_patient):\n",
    "            # si le nombre de fichier de patient est égale à 64, on stop la loop\n",
    "            if i == groups_number :\n",
    "                break\n",
    "            # shutil.move(file, new_path) : on bouge le file vers le new_path\n",
    "            shutil.move(file, output_path_name)"
   ]
  },
  {
   "cell_type": "markdown",
   "id": "9939f0f7",
   "metadata": {},
   "source": [
    "On va créer une fonction qui va creer 64 slices pour les images"
   ]
  },
  {
   "cell_type": "markdown",
   "id": "ced799a3",
   "metadata": {},
   "source": [
    "## Images"
   ]
  },
  {
   "cell_type": "code",
   "execution_count": 15,
   "id": "fae6c83b",
   "metadata": {},
   "outputs": [
    {
     "data": {
      "text/plain": [
       "'/media/david/Elements/dev/DL/Monai-AI-Healthcare-Imaging/data/Task03_Liver/Task03_Liver/dicom_file/images'"
      ]
     },
     "execution_count": 15,
     "metadata": {},
     "output_type": "execute_result"
    }
   ],
   "source": [
    "input_path_images = os.path.join(path_dicom_file, '', 'images')\n",
    "input_path_images"
   ]
  },
  {
   "cell_type": "code",
   "execution_count": 16,
   "id": "1dd3a218",
   "metadata": {},
   "outputs": [
    {
     "data": {
      "text/plain": [
       "'/media/david/Elements/dev/DL/Monai-AI-Healthcare-Imaging/data/Task03_Liver/Task03_Liver/dicom_file/images'"
      ]
     },
     "execution_count": 16,
     "metadata": {},
     "output_type": "execute_result"
    }
   ],
   "source": [
    "output_path_images = os.path.join(path_dicom_groups, '', 'images')\n",
    "input_path_images"
   ]
  },
  {
   "cell_type": "code",
   "execution_count": 50,
   "id": "a2bf65e6",
   "metadata": {},
   "outputs": [],
   "source": [
    "def create_slices(input_path, output_path, nb_slices, source):\n",
    "    input_path = os.path.join(input_path, '', source)\n",
    "    output_path = os.path.join(output_path, '', source)\n",
    "    \n",
    "    for patient in glob(input_path + '/*'):\n",
    "        patient_name = os.path.basename(os.path.normpath(patient))\n",
    "        number_folders = int(len(glob(patient + '/*')) / nb_slices)\n",
    "        \n",
    "        for i in range(number_folders):\n",
    "            output_path_name = os.path.join(output_path, patient_name + f'_{str(i)}')\n",
    "            os.mkdir(output_path_name)\n",
    "            all_patient = glob(patient + '/*')\n",
    "            \n",
    "            for i, file in enumerate(all_patient):\n",
    "                if i == nb_slices :\n",
    "                    break\n",
    "                    \n",
    "                shutil.move(file, output_path_name)"
   ]
  },
  {
   "cell_type": "code",
   "execution_count": 51,
   "id": "70a46de3",
   "metadata": {},
   "outputs": [],
   "source": [
    "create_slices(input_path=path_dicom_file, output_path=path_dicom_groups, nb_slices=64, source='images')"
   ]
  },
  {
   "cell_type": "markdown",
   "id": "2b5980d0",
   "metadata": {},
   "source": [
    "## Convertir les fichiers dicom en nifties "
   ]
  },
  {
   "cell_type": "code",
   "execution_count": 7,
   "id": "10605963",
   "metadata": {},
   "outputs": [
    {
     "data": {
      "text/plain": [
       "'/media/david/Elements/dev/DL/Monai-AI-Healthcare-Imaging/data/Task03_Liver/Task03_Liver/dicom_groups'"
      ]
     },
     "execution_count": 7,
     "metadata": {},
     "output_type": "execute_result"
    }
   ],
   "source": [
    "path_dicom_groups"
   ]
  },
  {
   "cell_type": "code",
   "execution_count": null,
   "id": "f50d0ba0",
   "metadata": {},
   "outputs": [],
   "source": []
  }
 ],
 "metadata": {
  "kernelspec": {
   "display_name": "Python 3 (ipykernel)",
   "language": "python",
   "name": "python3"
  },
  "language_info": {
   "codemirror_mode": {
    "name": "ipython",
    "version": 3
   },
   "file_extension": ".py",
   "mimetype": "text/x-python",
   "name": "python",
   "nbconvert_exporter": "python",
   "pygments_lexer": "ipython3",
   "version": "3.10.6"
  }
 },
 "nbformat": 4,
 "nbformat_minor": 5
}
