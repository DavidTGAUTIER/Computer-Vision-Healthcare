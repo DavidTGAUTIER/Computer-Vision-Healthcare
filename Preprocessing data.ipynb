{
 "cells": [
  {
   "cell_type": "code",
   "execution_count": 2,
   "id": "ec57e982",
   "metadata": {},
   "outputs": [],
   "source": [
    "import torch\n",
    "import os\n",
    "import gzip\n",
    "from glob import glob\n",
    "import shutil\n",
    "from tqdm import tqdm\n",
    "import dicom2nifti\n",
    "import dicom2nifti as d2n\n",
    "import numpy as np\n",
    "import nibabel as nib\n",
    "from monai.transforms import(\n",
    "    Compose,\n",
    "    AddChanneld,\n",
    "    LoadImaged,\n",
    "    Resized,\n",
    "    ToTensord,\n",
    "    Spacingd,\n",
    "    Orientationd,\n",
    "    ScaleIntensityRanged,\n",
    "    CropForegroundd,\n",
    ")\n",
    "from monai.data import DataLoader, Dataset, CacheDataset\n",
    "from monai.utils import set_determinism"
   ]
  },
  {
   "cell_type": "code",
   "execution_count": 2,
   "id": "60e661a8",
   "metadata": {},
   "outputs": [],
   "source": [
    "def extract_gz_files(directory):\n",
    "    \"\"\"\n",
    "    Extracts the contents of all .gz files in a directory and saves them in the same directory.\n",
    "    \n",
    "    Parameters:\n",
    "    directory (str): Path to the directory containing the .gz files.\n",
    "    \"\"\"\n",
    "    for filename in os.listdir(directory):\n",
    "        if filename.endswith(\"nii.gz\"):\n",
    "            file_path = os.path.join(directory, filename)\n",
    "            with gzip.open(file_path, \"rb\") as gz_file:\n",
    "                uncompressed_data = gz_file.read()\n",
    "            new_filename = filename[:-3]  # Remove the .gz extension\n",
    "            new_file_path = os.path.join(directory, new_filename)\n",
    "            with open(new_file_path, \"wb\") as new_file:\n",
    "                new_file.write(uncompressed_data)\n",
    "            os.remove(file_path)  # Delete the original .gz file\n"
   ]
  },
  {
   "cell_type": "code",
   "execution_count": 3,
   "id": "6c961f1f",
   "metadata": {},
   "outputs": [],
   "source": [
    "path1 = '/media/david/Elements/dev/DL/Monai-AI-Healthcare-Imaging/data/Task03_Liver/Task03_Liver/imagesTr'\n",
    "path2 = '/media/david/Elements/dev/DL/Monai-AI-Healthcare-Imaging/data/Task03_Liver/Task03_Liver/imagesTs' "
   ]
  },
  {
   "cell_type": "code",
   "execution_count": 4,
   "id": "024eb47d",
   "metadata": {},
   "outputs": [
    {
     "data": {
      "text/plain": [
       "['.ipynb_checkpoints',\n",
       " 'all_preprocess.ipynb',\n",
       " 'Computer-Vision-Healthcare',\n",
       " 'data',\n",
       " 'Preprocessing data.ipynb',\n",
       " 'sources.txt']"
      ]
     },
     "execution_count": 4,
     "metadata": {},
     "output_type": "execute_result"
    }
   ],
   "source": [
    "os.listdir()"
   ]
  },
  {
   "cell_type": "code",
   "execution_count": 5,
   "id": "fcdd4397",
   "metadata": {},
   "outputs": [],
   "source": [
    "paths = os.getcwd()\n",
    "path_images_tr = os.path.join(paths, '', 'data/Task03_Liver/Task03_Liver/imagesTr')\n",
    "path_dicom_files = os.path.join(paths, '', 'data/Task03_Liver/Task03_Liver/dicom_files')\n",
    "path_dicom_groups = os.path.join(paths, '', 'data/Task03_Liver/Task03_Liver/dicom_groups')"
   ]
  },
  {
   "cell_type": "code",
   "execution_count": 6,
   "id": "ae9463f9",
   "metadata": {},
   "outputs": [
    {
     "data": {
      "text/plain": [
       "'/media/david/Elements/dev/DL/Monai-AI-Healthcare-Imaging/data/Task03_Liver/Task03_Liver/dicom_files'"
      ]
     },
     "execution_count": 6,
     "metadata": {},
     "output_type": "execute_result"
    }
   ],
   "source": [
    "# exemple\n",
    "path_dicom_files"
   ]
  },
  {
   "cell_type": "markdown",
   "id": "255b8220",
   "metadata": {},
   "source": [
    "## Labels"
   ]
  },
  {
   "cell_type": "code",
   "execution_count": 8,
   "id": "49f34730",
   "metadata": {},
   "outputs": [
    {
     "data": {
      "text/plain": [
       "'/media/david/Elements/dev/DL/Monai-AI-Healthcare-Imaging/data/Task03_Liver/Task03_Liver/dicom_files/labels'"
      ]
     },
     "execution_count": 8,
     "metadata": {},
     "output_type": "execute_result"
    }
   ],
   "source": [
    "input_path_labels = os.path.join(path_dicom_files, '', 'labels')\n",
    "input_path_labels"
   ]
  },
  {
   "cell_type": "code",
   "execution_count": 9,
   "id": "699c5f47",
   "metadata": {},
   "outputs": [
    {
     "data": {
      "text/plain": [
       "'/media/david/Elements/dev/DL/Monai-AI-Healthcare-Imaging/data/Task03_Liver/Task03_Liver/dicom_groups/labels'"
      ]
     },
     "execution_count": 9,
     "metadata": {},
     "output_type": "execute_result"
    }
   ],
   "source": [
    "output_path_labels = os.path.join(path_dicom_groups, '', 'labels')\n",
    "output_path_labels"
   ]
  },
  {
   "cell_type": "markdown",
   "id": "86821568",
   "metadata": {},
   "source": [
    "### Creation d'un groupe de 64 slices"
   ]
  },
  {
   "cell_type": "markdown",
   "id": "f8e59bef",
   "metadata": {},
   "source": [
    "On va convertir les 64 slices en 1 seul fichier nfti"
   ]
  },
  {
   "cell_type": "code",
   "execution_count": 10,
   "id": "79243f3d",
   "metadata": {},
   "outputs": [
    {
     "name": "stdout",
     "output_type": "stream",
     "text": [
      "/media/david/Elements/dev/DL/Monai-AI-Healthcare-Imaging/data/Task03_Liver/Task03_Liver/dicom_files/labels/liver_0\n",
      "/media/david/Elements/dev/DL/Monai-AI-Healthcare-Imaging/data/Task03_Liver/Task03_Liver/dicom_files/labels/liver_1\n"
     ]
    }
   ],
   "source": [
    "for patient in glob(input_path_labels + '/*'):\n",
    "    print(patient)"
   ]
  },
  {
   "cell_type": "code",
   "execution_count": 11,
   "id": "31eeec22",
   "metadata": {},
   "outputs": [
    {
     "data": {
      "text/plain": [
       "'/media/david/Elements/dev/DL/Monai-AI-Healthcare-Imaging/data/Task03_Liver/Task03_Liver/dicom_files/labels/liver_0'"
      ]
     },
     "execution_count": 11,
     "metadata": {},
     "output_type": "execute_result"
    }
   ],
   "source": [
    "patient_list = glob(input_path_labels + '/*')\n",
    "patient_list[0]"
   ]
  },
  {
   "cell_type": "markdown",
   "id": "54ed65de",
   "metadata": {},
   "source": [
    "* `os.path.basename()` : split au dernier '/' et récupère le nom du dossier ou du fichier \n",
    "* `os.path.normpath()` : supprime les sequences '.' et '..' inutiles dans le chemin  "
   ]
  },
  {
   "cell_type": "code",
   "execution_count": 18,
   "id": "55757f4b",
   "metadata": {},
   "outputs": [],
   "source": [
    "groups_number = 64\n",
    "\n",
    "for patient in glob(input_path_labels + '/*'):\n",
    "    # patient_name = liver_00 (pour le 1er patient, ect...)\n",
    "    patient_name = os.path.basename(os.path.normpath(patient))\n",
    "    # glob(patient + '/*') crée une liste de tous les fichiers du liver_00 (pour le 1er patient)\n",
    "    # on va récupérer le nombre total de fichier qu'on divise par le nombre de patients par groupe \n",
    "    # souhaités (dans notre cas, on veut 64 patients par groupe)\n",
    "    # Attention : on ne prend que les groupes entier de 64 personnes\n",
    "    # ex: si un groupe de patients est de 80 personnes, nous n'aurons qu'un seul groupe de 64 personnes\n",
    "    # cad qu'on ne garde pas la partie non entière de 24 personnes (pour un problème d'accuracy en DL)\n",
    "    number_folders = int(len(glob(patient + '/*')) / groups_number)\n",
    "    \n",
    "    # on va créer autant de sous-groupe de 64 patients que le nombre de number_folders\n",
    "    for i in range(number_folders):\n",
    "        # os.path.join(path, patient_name+'_' + str(i)) ==> path/patient_name_i\n",
    "        output_path_name = os.path.join(output_path_labels, patient_name + f'_{str(i)}')\n",
    "        # os.mkdir(folder_name) : va créer pour chaque folder_name un folder à son nom\n",
    "        os.mkdir(output_path_name)\n",
    "        \n",
    "        all_patient = glob(patient + '/*')\n",
    "        # pour chaque patient dans la liste all_patient\n",
    "        for i, file in enumerate(all_patient):\n",
    "            # si le nombre de fichier de patient est égale à 64, on stop la loop\n",
    "            if i == groups_number :\n",
    "                break\n",
    "            # shutil.move(file, new_path) : on bouge le file vers le new_path\n",
    "            shutil.move(file, output_path_name)"
   ]
  },
  {
   "cell_type": "markdown",
   "id": "9939f0f7",
   "metadata": {},
   "source": [
    "On va créer une fonction qui va creer 64 slices pour les images"
   ]
  },
  {
   "cell_type": "markdown",
   "id": "ced799a3",
   "metadata": {},
   "source": [
    "## Images"
   ]
  },
  {
   "cell_type": "code",
   "execution_count": 15,
   "id": "3d6b872a",
   "metadata": {},
   "outputs": [
    {
     "data": {
      "text/plain": [
       "'/media/david/Elements/dev/DL/Monai-AI-Healthcare-Imaging/data/Task03_Liver/Task03_Liver/dicom_files/images'"
      ]
     },
     "execution_count": 15,
     "metadata": {},
     "output_type": "execute_result"
    }
   ],
   "source": [
    "input_path_images = os.path.join(path_dicom_files, '', 'images')\n",
    "input_path_images"
   ]
  },
  {
   "cell_type": "code",
   "execution_count": 16,
   "id": "e7e786e0",
   "metadata": {},
   "outputs": [
    {
     "data": {
      "text/plain": [
       "'/media/david/Elements/dev/DL/Monai-AI-Healthcare-Imaging/data/Task03_Liver/Task03_Liver/dicom_groups/images'"
      ]
     },
     "execution_count": 16,
     "metadata": {},
     "output_type": "execute_result"
    }
   ],
   "source": [
    "output_path_images = os.path.join(path_dicom_groups, '', 'images')\n",
    "output_path_images"
   ]
  },
  {
   "cell_type": "code",
   "execution_count": 50,
   "id": "a2bf65e6",
   "metadata": {},
   "outputs": [],
   "source": [
    "def create_slices(input_path, output_path, nb_slices, source):\n",
    "    input_path = os.path.join(input_path, '', source)\n",
    "    output_path = os.path.join(output_path, '', source)\n",
    "    \n",
    "    for patient in glob(input_path + '/*'):\n",
    "        patient_name = os.path.basename(os.path.normpath(patient))\n",
    "        number_folders = int(len(glob(patient + '/*')) / nb_slices)\n",
    "        \n",
    "        for i in range(number_folders):\n",
    "            output_path_name = os.path.join(output_path, patient_name + f'_{str(i)}')\n",
    "            os.mkdir(output_path_name)\n",
    "            all_patient = glob(patient + '/*')\n",
    "            \n",
    "            for i, file in enumerate(all_patient):\n",
    "                if i == nb_slices :\n",
    "                    break\n",
    "                    \n",
    "                shutil.move(file, output_path_name)"
   ]
  },
  {
   "cell_type": "code",
   "execution_count": 51,
   "id": "70a46de3",
   "metadata": {},
   "outputs": [],
   "source": [
    "create_slices(input_path=path_dicom_files, output_path=path_dicom_groups, nb_slices=64, source='images')"
   ]
  },
  {
   "cell_type": "markdown",
   "id": "2b5980d0",
   "metadata": {},
   "source": [
    "## Convertir les fichiers dicom en nifties "
   ]
  },
  {
   "cell_type": "code",
   "execution_count": 14,
   "id": "e3cadd2e",
   "metadata": {},
   "outputs": [],
   "source": [
    "import dicom2nifti as d2n"
   ]
  },
  {
   "cell_type": "code",
   "execution_count": 13,
   "id": "10605963",
   "metadata": {},
   "outputs": [],
   "source": [
    "all_input_path_images = os.path.join(path_dicom_groups, 'images/*')\n",
    "all_input_path_labels = os.path.join(path_dicom_groups, 'labels/*')\n",
    "\n",
    "list_images = glob(all_input_path_images)\n",
    "list_labels = glob(all_input_path_labels)"
   ]
  },
  {
   "cell_type": "code",
   "execution_count": 28,
   "id": "db293e2e",
   "metadata": {},
   "outputs": [
    {
     "data": {
      "text/plain": [
       "['/media/david/Elements/dev/DL/Monai-AI-Healthcare-Imaging/data/Task03_Liver/Task03_Liver/dicom_groups/images/liver_0_0',\n",
       " '/media/david/Elements/dev/DL/Monai-AI-Healthcare-Imaging/data/Task03_Liver/Task03_Liver/dicom_groups/images/liver_1_0']"
      ]
     },
     "execution_count": 28,
     "metadata": {},
     "output_type": "execute_result"
    }
   ],
   "source": [
    "list_images"
   ]
  },
  {
   "cell_type": "code",
   "execution_count": 17,
   "id": "b9e77fb3",
   "metadata": {},
   "outputs": [
    {
     "data": {
      "text/plain": [
       "'/media/david/Elements/dev/DL/Monai-AI-Healthcare-Imaging/data/Task03_Liver/Task03_Liver/nifti_files/images'"
      ]
     },
     "execution_count": 17,
     "metadata": {},
     "output_type": "execute_result"
    }
   ],
   "source": [
    "output_path_nifty_images = os.path.join(output_path_images[:-20], 'nifti_files/images')\n",
    "output_path_nifty_images"
   ]
  },
  {
   "cell_type": "code",
   "execution_count": 18,
   "id": "5a93a2be",
   "metadata": {
    "scrolled": true
   },
   "outputs": [
    {
     "data": {
      "text/plain": [
       "'/media/david/Elements/dev/DL/Monai-AI-Healthcare-Imaging/data/Task03_Liver/Task03_Liver/nifti_files/labels'"
      ]
     },
     "execution_count": 18,
     "metadata": {},
     "output_type": "execute_result"
    }
   ],
   "source": [
    "output_path_nifty_labels = os.path.join(output_path_labels[:-20], 'nifti_files/labels')\n",
    "output_path_nifty_labels"
   ]
  },
  {
   "cell_type": "code",
   "execution_count": 35,
   "id": "4106727b",
   "metadata": {
    "scrolled": false
   },
   "outputs": [],
   "source": [
    "for patient in list_images:\n",
    "    # on récupère seulement le nom du patient (ex: 'liver_00')\n",
    "    patient_name = os.path.basename(os.path.normpath(patient))\n",
    "    # dicom2nifti.dicom_series_to_nifti(allpath_to_series_file, allpath_to_nifti_file) \n",
    "    # convertie une series en nifti (si on veut compresser le fichier : patient_name + '.nii.gz')\n",
    "    d2n.dicom_series_to_nifti(patient, os.path.join(output_path_nifty_images, patient_name + '.nii'))"
   ]
  },
  {
   "cell_type": "code",
   "execution_count": 34,
   "id": "13f3bc46",
   "metadata": {},
   "outputs": [],
   "source": [
    "for patient in list_labels:\n",
    "    # on récupère seulement le nom du patient (ex: 'liver_00')\n",
    "    patient_name = os.path.basename(os.path.normpath(patient))\n",
    "    # dicom2nifti.dicom_series_to_nifti(allpath_to_series_file, allpath_to_nifti_file) \n",
    "    # convertie une series en nifti (si on veut compresser le fichier : patient_name + '.nii.gz')\n",
    "    d2n.dicom_series_to_nifti(patient, os.path.join(output_path_nifty_labels, patient_name + '.nii'))"
   ]
  },
  {
   "cell_type": "markdown",
   "id": "8d5de6af",
   "metadata": {},
   "source": [
    "## Find empty"
   ]
  },
  {
   "cell_type": "code",
   "execution_count": 19,
   "id": "1a640787",
   "metadata": {},
   "outputs": [],
   "source": [
    "o_n_i = '/media/david/Elements/dev/DL/Monai-AI-Healthcare-Imaging/data/Task03_Liver/Task03_Liver/nifti_files/images'\n",
    "o_n_l = '/media/david/Elements/dev/DL/Monai-AI-Healthcare-Imaging/data/Task03_Liver/Task03_Liver/nifti_files/labels'"
   ]
  },
  {
   "cell_type": "code",
   "execution_count": 20,
   "id": "702a6f9c",
   "metadata": {},
   "outputs": [
    {
     "data": {
      "text/plain": [
       "'/media/david/Elements/dev/DL/Monai-AI-Healthcare-Imaging/data/Task03_Liver/Task03_Liver/nifti_files/images/liver_0_0.nii'"
      ]
     },
     "execution_count": 20,
     "metadata": {},
     "output_type": "execute_result"
    }
   ],
   "source": [
    "input_nifti_image_0 = os.path.join(o_n_i, 'liver_0_0.nii')\n",
    "input_nifti_image_0"
   ]
  },
  {
   "cell_type": "code",
   "execution_count": 21,
   "id": "5b5432f0",
   "metadata": {},
   "outputs": [],
   "source": [
    "nifti_file = nib.load(input_nifti_image_0)\n",
    "fdata = nifti_file.get_fdata()\n",
    "np_unique = np.unique(fdata)"
   ]
  },
  {
   "cell_type": "code",
   "execution_count": 22,
   "id": "35ea8377",
   "metadata": {},
   "outputs": [
    {
     "data": {
      "text/plain": [
       "<nibabel.nifti1.Nifti1Image at 0x7f54bfa1e1d0>"
      ]
     },
     "execution_count": 22,
     "metadata": {},
     "output_type": "execute_result"
    }
   ],
   "source": [
    "nifti_file"
   ]
  },
  {
   "cell_type": "code",
   "execution_count": 23,
   "id": "c0f70e49",
   "metadata": {},
   "outputs": [
    {
     "name": "stdout",
     "output_type": "stream",
     "text": [
      "(512, 512, 64)\n",
      "(512, 64)\n",
      "512 x 512 = 262144\n",
      "il y a 262144 lignes dans fdata\n",
      "np.unique() ne garde que les lignes uniques\n"
     ]
    }
   ],
   "source": [
    "print(fdata.shape)        # 64 images de dim : 512 lignes x 64 colonnes\n",
    "print(fdata[0].shape)     # 1er image : 512 x 64\n",
    "print(f'512 x 512 = {512*512}')\n",
    "print(\"il y a 262144 lignes dans fdata\")\n",
    "print(\"np.unique() ne garde que les lignes uniques\")"
   ]
  },
  {
   "cell_type": "code",
   "execution_count": 24,
   "id": "7e0bd478",
   "metadata": {},
   "outputs": [
    {
     "data": {
      "text/plain": [
       "True"
      ]
     },
     "execution_count": 24,
     "metadata": {},
     "output_type": "execute_result"
    }
   ],
   "source": [
    "(fdata[0][0] == fdata[0][1]).any()"
   ]
  },
  {
   "cell_type": "code",
   "execution_count": 25,
   "id": "26935b71",
   "metadata": {},
   "outputs": [
    {
     "data": {
      "text/plain": [
       "memmap([[[-1024., -1024., -1024., ..., -1024., -1024., -1024.],\n",
       "         [-1024., -1024., -1024., ..., -1024., -1024., -1024.],\n",
       "         [-1024., -1024., -1024., ..., -1024., -1024., -1024.],\n",
       "         ...,\n",
       "         [-1024., -1024., -1024., ..., -1024., -1024., -1024.],\n",
       "         [-1024., -1024., -1024., ..., -1024., -1024., -1024.],\n",
       "         [-1024., -1024., -1024., ..., -1024., -1024., -1024.]],\n",
       "\n",
       "        [[-1024., -1024., -1024., ..., -1024., -1024., -1024.],\n",
       "         [-1024., -1024., -1024., ..., -1024., -1024., -1024.],\n",
       "         [-1024., -1024., -1024., ..., -1024., -1024., -1024.],\n",
       "         ...,\n",
       "         [-1024., -1024., -1024., ..., -1024., -1024., -1024.],\n",
       "         [-1024., -1024., -1024., ..., -1024., -1024., -1024.],\n",
       "         [-1024., -1024., -1024., ..., -1024., -1024., -1024.]],\n",
       "\n",
       "        [[-1024., -1024., -1024., ..., -1024., -1024., -1024.],\n",
       "         [-1024., -1024., -1024., ..., -1024., -1024., -1024.],\n",
       "         [-1024., -1024., -1024., ..., -1024., -1024., -1024.],\n",
       "         ...,\n",
       "         [-1024., -1024., -1024., ..., -1024., -1024., -1024.],\n",
       "         [-1024., -1024., -1024., ..., -1024., -1024., -1024.],\n",
       "         [-1024., -1024., -1024., ..., -1024., -1024., -1024.]],\n",
       "\n",
       "        ...,\n",
       "\n",
       "        [[-1024., -1024., -1024., ..., -1024., -1024., -1024.],\n",
       "         [-1024., -1024., -1024., ..., -1024., -1024., -1024.],\n",
       "         [-1024., -1024., -1024., ..., -1024., -1024., -1024.],\n",
       "         ...,\n",
       "         [-1024., -1024., -1024., ..., -1024., -1024., -1024.],\n",
       "         [-1024., -1024., -1024., ..., -1024., -1024., -1024.],\n",
       "         [-1024., -1024., -1024., ..., -1024., -1024., -1024.]],\n",
       "\n",
       "        [[-1024., -1024., -1024., ..., -1024., -1024., -1024.],\n",
       "         [-1024., -1024., -1024., ..., -1024., -1024., -1024.],\n",
       "         [-1024., -1024., -1024., ..., -1024., -1024., -1024.],\n",
       "         ...,\n",
       "         [-1024., -1024., -1024., ..., -1024., -1024., -1024.],\n",
       "         [-1024., -1024., -1024., ..., -1024., -1024., -1024.],\n",
       "         [-1024., -1024., -1024., ..., -1024., -1024., -1024.]],\n",
       "\n",
       "        [[-1024., -1024., -1024., ..., -1024., -1024., -1024.],\n",
       "         [-1024., -1024., -1024., ..., -1024., -1024., -1024.],\n",
       "         [-1024., -1024., -1024., ..., -1024., -1024., -1024.],\n",
       "         ...,\n",
       "         [-1024., -1024., -1024., ..., -1024., -1024., -1024.],\n",
       "         [-1024., -1024., -1024., ..., -1024., -1024., -1024.],\n",
       "         [-1024., -1024., -1024., ..., -1024., -1024., -1024.]]])"
      ]
     },
     "execution_count": 25,
     "metadata": {},
     "output_type": "execute_result"
    }
   ],
   "source": [
    "fdata"
   ]
  },
  {
   "cell_type": "code",
   "execution_count": 26,
   "id": "651d01c3",
   "metadata": {},
   "outputs": [
    {
     "data": {
      "text/plain": [
       "(2390,)"
      ]
     },
     "execution_count": 26,
     "metadata": {},
     "output_type": "execute_result"
    }
   ],
   "source": [
    "np_unique.shape"
   ]
  },
  {
   "cell_type": "code",
   "execution_count": 30,
   "id": "98a2eb2a",
   "metadata": {},
   "outputs": [
    {
     "data": {
      "text/plain": [
       "array([-1024., -1023., -1022., ...,  1391.,  1395.,  1410.])"
      ]
     },
     "execution_count": 30,
     "metadata": {},
     "output_type": "execute_result"
    }
   ],
   "source": [
    "np_unique"
   ]
  },
  {
   "cell_type": "code",
   "execution_count": 31,
   "id": "c6baa870",
   "metadata": {},
   "outputs": [
    {
     "name": "stdout",
     "output_type": "stream",
     "text": [
      "nombre de pixel par image : 32768\n"
     ]
    }
   ],
   "source": [
    "print(f\"nombre de pixel par image : {512*64}\")"
   ]
  },
  {
   "cell_type": "markdown",
   "id": "bc8cfe49",
   "metadata": {},
   "source": [
    "### Test matrice 3d"
   ]
  },
  {
   "cell_type": "code",
   "execution_count": 25,
   "id": "101b594e",
   "metadata": {},
   "outputs": [
    {
     "data": {
      "text/plain": [
       "(3, 2, 3)"
      ]
     },
     "execution_count": 25,
     "metadata": {},
     "output_type": "execute_result"
    }
   ],
   "source": [
    "A = np.array([[[0, 1, 2],\n",
    "           [0, 1, 2]],\n",
    "         [[0, 1, 2],\n",
    "          [0, 1, 2]],\n",
    "         [[0, 1, 2],\n",
    "          [0, 1, 2]]])\n",
    "\n",
    "A.shape # 3 images de 3 x 2 "
   ]
  },
  {
   "cell_type": "code",
   "execution_count": 26,
   "id": "75fcc25d",
   "metadata": {},
   "outputs": [
    {
     "data": {
      "text/plain": [
       "array([0, 1, 2])"
      ]
     },
     "execution_count": 26,
     "metadata": {},
     "output_type": "execute_result"
    }
   ],
   "source": [
    "np.unique(A)"
   ]
  },
  {
   "cell_type": "markdown",
   "id": "274ada00",
   "metadata": {},
   "source": [
    "### Nifti fdata"
   ]
  },
  {
   "cell_type": "code",
   "execution_count": 32,
   "id": "556339a9",
   "metadata": {},
   "outputs": [
    {
     "data": {
      "text/plain": [
       "['/media/david/Elements/dev/DL/Monai-AI-Healthcare-Imaging/data/Task03_Liver/Task03_Liver/nifti_files/images/liver_0_0.nii',\n",
       " '/media/david/Elements/dev/DL/Monai-AI-Healthcare-Imaging/data/Task03_Liver/Task03_Liver/nifti_files/images/liver_1_0.nii',\n",
       " '/media/david/Elements/dev/DL/Monai-AI-Healthcare-Imaging/data/Task03_Liver/Task03_Liver/nifti_files/images/test_segmentation.nii.gz']"
      ]
     },
     "execution_count": 32,
     "metadata": {},
     "output_type": "execute_result"
    }
   ],
   "source": [
    "glob(o_n_i+'/*')"
   ]
  },
  {
   "cell_type": "code",
   "execution_count": 42,
   "id": "09fe100a",
   "metadata": {},
   "outputs": [
    {
     "data": {
      "text/plain": [
       "'/media/david/Elements/dev/DL/Monai-AI-Healthcare-Imaging/data/Task03_Liver/Task03_Liver/nifti_files/images/*'"
      ]
     },
     "execution_count": 42,
     "metadata": {},
     "output_type": "execute_result"
    }
   ],
   "source": [
    "o_n_i + '/*'"
   ]
  },
  {
   "cell_type": "code",
   "execution_count": 43,
   "id": "702c7d10",
   "metadata": {},
   "outputs": [
    {
     "data": {
      "text/plain": [
       "'/media/david/Elements/dev/DL/Monai-AI-Healthcare-Imaging/data/Task03_Liver/Task03_Liver/nifti_files/images/liver_0_0.nii'"
      ]
     },
     "execution_count": 43,
     "metadata": {},
     "output_type": "execute_result"
    }
   ],
   "source": [
    "input_nifti_all_images = os.path.join(o_n_i, 'liver_0_0.nii')\n",
    "input_nifti_all_images"
   ]
  },
  {
   "cell_type": "code",
   "execution_count": null,
   "id": "e98a3fcd",
   "metadata": {},
   "outputs": [],
   "source": []
  },
  {
   "cell_type": "code",
   "execution_count": 45,
   "id": "e5f83f84",
   "metadata": {},
   "outputs": [
    {
     "name": "stdout",
     "output_type": "stream",
     "text": [
      "len(np_unique) != 1\n",
      "2390\n"
     ]
    }
   ],
   "source": [
    "if len(np_unique) == 1:\n",
    "    print(o_n_i + '/*')\n",
    "else:\n",
    "    print('len(np_unique) != 1')\n",
    "    print(len(np_unique))"
   ]
  },
  {
   "cell_type": "code",
   "execution_count": 39,
   "id": "778ed274",
   "metadata": {},
   "outputs": [
    {
     "data": {
      "text/plain": [
       "'/media/david/Elements/dev/DL/Monai-AI-Healthcare-Imaging/data/Task03_Liver/Task03_Liver/nifti_files/images/*'"
      ]
     },
     "execution_count": 39,
     "metadata": {},
     "output_type": "execute_result"
    }
   ],
   "source": [
    "o_n_i + '/*'"
   ]
  },
  {
   "cell_type": "code",
   "execution_count": 40,
   "id": "b5c879f1",
   "metadata": {},
   "outputs": [
    {
     "data": {
      "text/plain": [
       "'/media/david/Elements/dev/DL/Monai-AI-Healthcare-Imaging/data/Task03_Liver/Task03_Liver/nifti_files/labels/*'"
      ]
     },
     "execution_count": 40,
     "metadata": {},
     "output_type": "execute_result"
    }
   ],
   "source": [
    "o_n_l + '/*'"
   ]
  },
  {
   "cell_type": "code",
   "execution_count": null,
   "id": "efed665d",
   "metadata": {},
   "outputs": [],
   "source": [
    "list_labels = glob(o_n_l + '/*')\n",
    "\n",
    "for patient in list_labels:\n",
    "    # nibabel.load()\n",
    "    nifti_file = nib.load(patient)\n",
    "    # nibabel.load().get()\n",
    "    fdata = nifti_file.get_fdata()\n",
    "    np_unique = np.unique(fdata)"
   ]
  }
 ],
 "metadata": {
  "kernelspec": {
   "display_name": "Python 3 (ipykernel)",
   "language": "python",
   "name": "python3"
  },
  "language_info": {
   "codemirror_mode": {
    "name": "ipython",
    "version": 3
   },
   "file_extension": ".py",
   "mimetype": "text/x-python",
   "name": "python",
   "nbconvert_exporter": "python",
   "pygments_lexer": "ipython3",
   "version": "3.10.6"
  }
 },
 "nbformat": 4,
 "nbformat_minor": 5
}
